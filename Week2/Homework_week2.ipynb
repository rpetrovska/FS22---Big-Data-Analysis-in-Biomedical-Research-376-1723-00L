{
 "cells": [
  {
   "cell_type": "code",
   "execution_count": 1,
   "id": "9dd7ed3f",
   "metadata": {},
   "outputs": [
    {
     "data": {
      "text/plain": [
       "31-0.0\n",
       "0.0    0.070104\n",
       "1.0    0.065236\n",
       "Name: waist-to-hip, dtype: float64"
      ]
     },
     "execution_count": 1,
     "metadata": {},
     "output_type": "execute_result"
    }
   ],
   "source": [
    "import pandas as pd\n",
    "import numpy as np\n",
    "\n",
    "data = pd.read_csv(\"https://github.com/araldi/HS21---Big-Data-Analysis-in-Biomedical-Research-376-1723-00L-/blob/main/numpy/Week2_homework_data.csv?raw=true\")\n",
    "data\n",
    "\n",
    "dic=pd.read_csv(\"https://raw.githubusercontent.com/araldi/HS21---Big-Data-Analysis-in-Biomedical-Research-376-1723-00L-/main/numpy/Week2_homework_dictionary.csv\")\n",
    "dic\n",
    "\n",
    "data['Height_m']=data.loc[:, '50-0.0']/100\n",
    "\n",
    "# Exercise 1: Create a new column with the BMI of the individuals\n",
    "data['BMI']=data.loc[:, '21002-0.0']/data.loc[:, 'Height_m']*data.loc[:, 'Height_m']\n",
    "\n",
    "# Exercise 2: Create a new column with the waist-to-hip ratio\n",
    "data['waist-to-hip']=data.loc[:, '48-0.0']/data.loc[:, '49-0.0']\n",
    "\n",
    "# Exercise 3: Find the mean and standard deviation of the BMI of females and males\n",
    "data.groupby(['31-0.0'])['BMI'].mean()\n",
    "data.groupby(['31-0.0'])['BMI'].std()\n",
    "\n",
    "# Exercise 4: Find the mean and standard deviation of the waist-to-hip ratio of females and males\n",
    "data.groupby(['31-0.0'])['waist-to-hip'].mean()\n",
    "data.groupby(['31-0.0'])['waist-to-hip'].std()"
   ]
  },
  {
   "cell_type": "code",
   "execution_count": null,
   "id": "84fa7dd4",
   "metadata": {},
   "outputs": [],
   "source": []
  }
 ],
 "metadata": {
  "kernelspec": {
   "display_name": "Python 3",
   "language": "python",
   "name": "python3"
  },
  "language_info": {
   "codemirror_mode": {
    "name": "ipython",
    "version": 3
   },
   "file_extension": ".py",
   "mimetype": "text/x-python",
   "name": "python",
   "nbconvert_exporter": "python",
   "pygments_lexer": "ipython3",
   "version": "3.8.8"
  }
 },
 "nbformat": 4,
 "nbformat_minor": 5
}
